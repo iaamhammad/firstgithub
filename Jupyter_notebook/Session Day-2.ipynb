{
 "cells": [
  {
   "cell_type": "code",
   "execution_count": 1,
   "id": "ce0bcc63",
   "metadata": {},
   "outputs": [],
   "source": [
    "# body mass index (BMI)\n",
    "# input weight\n",
    "# Height\n",
    "# BMI (Ask your self your height)\n",
    "# Weight\n",
    "# Calculate BMI\n",
    "# print BMI (My name is ____,and my BMI is ____,)"
   ]
  },
  {
   "cell_type": "code",
   "execution_count": 2,
   "id": "014016ed",
   "metadata": {},
   "outputs": [],
   "source": [
    "# Weight in kg/height in m and its square"
   ]
  },
  {
   "cell_type": "code",
   "execution_count": 3,
   "id": "cd3e6dac",
   "metadata": {},
   "outputs": [
    {
     "name": "stdout",
     "output_type": "stream",
     "text": [
      "What is your height? 1.68\n"
     ]
    }
   ],
   "source": [
    "height = input(\"What is your height? \")"
   ]
  },
  {
   "cell_type": "code",
   "execution_count": null,
   "id": "af960f6a",
   "metadata": {},
   "outputs": [],
   "source": [
    "height = float(height)"
   ]
  },
  {
   "cell_type": "code",
   "execution_count": 5,
   "id": "d4d7aa5e",
   "metadata": {
    "scrolled": true
   },
   "outputs": [
    {
     "name": "stdout",
     "output_type": "stream",
     "text": [
      "What is your weight? 68\n"
     ]
    },
    {
     "data": {
      "text/plain": [
       "'68'"
      ]
     },
     "execution_count": 5,
     "metadata": {},
     "output_type": "execute_result"
    }
   ],
   "source": [
    "weight = input(\"What is your weight? \")\n",
    "weight"
   ]
  },
  {
   "cell_type": "code",
   "execution_count": null,
   "id": "c51bf0b1",
   "metadata": {},
   "outputs": [],
   "source": [
    "weight = float(weight)"
   ]
  },
  {
   "cell_type": "code",
   "execution_count": 7,
   "id": "51444e6f",
   "metadata": {},
   "outputs": [
    {
     "name": "stdout",
     "output_type": "stream",
     "text": [
      "What is you name? hammad\n"
     ]
    }
   ],
   "source": [
    "name = input(\"What is you name? \")"
   ]
  },
  {
   "cell_type": "code",
   "execution_count": 8,
   "id": "e12c26d9",
   "metadata": {},
   "outputs": [
    {
     "data": {
      "text/plain": [
       "24.092970521541954"
      ]
     },
     "execution_count": 8,
     "metadata": {},
     "output_type": "execute_result"
    }
   ],
   "source": [
    "BMI = weight/height**2\n",
    "BMI"
   ]
  },
  {
   "cell_type": "code",
   "execution_count": 12,
   "id": "9ff10e24",
   "metadata": {},
   "outputs": [
    {
     "name": "stdout",
     "output_type": "stream",
     "text": [
      "My name is hammad and my BMI is  24.092970521541954\n"
     ]
    }
   ],
   "source": [
    "print(\"My name is\" , name,\"and my BMI is \",BMI)"
   ]
  }
 ],
 "metadata": {
  "kernelspec": {
   "display_name": "Python 3 (ipykernel)",
   "language": "python",
   "name": "python3"
  },
  "language_info": {
   "codemirror_mode": {
    "name": "ipython",
    "version": 3
   },
   "file_extension": ".py",
   "mimetype": "text/x-python",
   "name": "python",
   "nbconvert_exporter": "python",
   "pygments_lexer": "ipython3",
   "version": "3.9.12"
  }
 },
 "nbformat": 4,
 "nbformat_minor": 5
}
