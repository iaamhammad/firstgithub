{
 "cells": [
  {
   "cell_type": "markdown",
   "id": "eda4f5c1",
   "metadata": {},
   "source": [
    "# python ka chilla will baba aammar\n",
    "## how to use jupytar notebook\n",
    "## Basic of python\n",
    "### **01-my first program**"
   ]
  },
  {
   "cell_type": "code",
   "execution_count": 6,
   "id": "f4608d34",
   "metadata": {
    "scrolled": true
   },
   "outputs": [
    {
     "name": "stdout",
     "output_type": "stream",
     "text": [
      "5\n",
      "HEllo QOrda\n",
      "wthat in the worlld\n"
     ]
    }
   ],
   "source": [
    "print(2+3)\n",
    "print(\"HEllo QOrda\") \n",
    "print(\"wthat in the worlld\")"
   ]
  },
  {
   "cell_type": "markdown",
   "id": "cceef447",
   "metadata": {},
   "source": [
    "### **02-operator**"
   ]
  },
  {
   "cell_type": "code",
   "execution_count": 7,
   "id": "c7221a00",
   "metadata": {},
   "outputs": [
    {
     "name": "stdout",
     "output_type": "stream",
     "text": [
      "3\n",
      "2\n",
      "3.0\n",
      "6\n",
      "1\n",
      "3\n",
      "8\n",
      "6.5\n"
     ]
    }
   ],
   "source": [
    "print(2+1)\n",
    "print(3-1)\n",
    "print(6/2)\n",
    "print(2*3)\n",
    "print(13%2)\n",
    "print(6//2)\n",
    "print(2**3)\n",
    "\n",
    "print(3**2/2*3/3+6-4)\n",
    "\n",
    "\n"
   ]
  },
  {
   "cell_type": "markdown",
   "id": "c300b101",
   "metadata": {},
   "source": [
    "*PEMDAS\n",
    "Parenthesis Exponents Multiply Divide Addition Subtraction\n",
    "left to right sequence for M D & A S*"
   ]
  },
  {
   "cell_type": "markdown",
   "id": "f505519e",
   "metadata": {},
   "source": [
    "### **03-strings**"
   ]
  },
  {
   "cell_type": "code",
   "execution_count": 8,
   "id": "000407c9",
   "metadata": {},
   "outputs": [
    {
     "name": "stdout",
     "output_type": "stream",
     "text": [
      "Hello world\n",
      "I am learning python\n",
      "test for single quote\n",
      "test for double quote\n",
      "test for triple quote\n",
      "Hammad's book\n"
     ]
    }
   ],
   "source": [
    "print(\"Hello world\")\n",
    "print(\"I am learning python\")\n",
    "print('test for single quote')\n",
    "print(\"test for double quote\")\n",
    "print('''test for triple quote''')\n",
    "print(\"Hammad's book\")"
   ]
  },
  {
   "cell_type": "markdown",
   "id": "6a2ee9c4",
   "metadata": {},
   "source": [
    "### **04-comments**\n",
    "The shortcut key to comments is **crtl+/**"
   ]
  },
  {
   "cell_type": "code",
   "execution_count": 9,
   "id": "a11e3c75",
   "metadata": {
    "scrolled": true
   },
   "outputs": [
    {
     "name": "stdout",
     "output_type": "stream",
     "text": [
      "Hello world\n",
      "I am learning python\n",
      "test for single quote\n",
      "test for double quote\n",
      "test for triple quote\n",
      "8\n"
     ]
    }
   ],
   "source": [
    "print(\"Hello world\")                #press these to comment out (ctrl+l)\n",
    "print(\"I am learning python\")       #print strings letter\n",
    "print('test for single quote')\n",
    "print(\"test for double quote\")\n",
    "print('''test for triple quote''')\n",
    "\n",
    "print(2+6)          #print operators function with numbers"
   ]
  },
  {
   "cell_type": "markdown",
   "id": "075d61a6",
   "metadata": {},
   "source": [
    "### **05-variables**"
   ]
  },
  {
   "cell_type": "code",
   "execution_count": 10,
   "id": "912fbdee",
   "metadata": {},
   "outputs": [
    {
     "ename": "NameError",
     "evalue": "name 'fruit_basket' is not defined",
     "output_type": "error",
     "traceback": [
      "\u001b[1;31m---------------------------------------------------------------------------\u001b[0m",
      "\u001b[1;31mNameError\u001b[0m                                 Traceback (most recent call last)",
      "Input \u001b[1;32mIn [10]\u001b[0m, in \u001b[0;36m<cell line: 27>\u001b[1;34m()\u001b[0m\n\u001b[0;32m     25\u001b[0m fruit_basket\u001b[38;5;241m=\u001b[39m \u001b[38;5;124m\"\u001b[39m\u001b[38;5;124mMangoes\u001b[39m\u001b[38;5;124m\"\u001b[39m\n\u001b[0;32m     26\u001b[0m \u001b[38;5;28;01mdel\u001b[39;00m fruit_basket\n\u001b[1;32m---> 27\u001b[0m \u001b[38;5;28mprint\u001b[39m(\u001b[38;5;28mtype\u001b[39m(\u001b[43mfruit_basket\u001b[49m))\n\u001b[0;32m     28\u001b[0m \u001b[38;5;28mprint\u001b[39m (fruit_basket)\n",
      "\u001b[1;31mNameError\u001b[0m: name 'fruit_basket' is not defined"
     ]
    }
   ],
   "source": [
    "# #variables : objects containing specific values\n",
    "# x = 5 # numeric or integer variable\n",
    "# print(x)\n",
    "\n",
    "# y = \"I am learning python\" # string variable\n",
    "# print(y)\n",
    "# x= x+10 # or x=15\n",
    "# print(x)\n",
    "\n",
    "# #types/class of variable\n",
    "# type(x)\n",
    "# print(type(x))\n",
    "\n",
    "# print(type(y))\n",
    "\n",
    "#rules to assign a variabble\n",
    "# 1- the variable should contain letters,numbers or underscores\n",
    "# 2- Do not start with numbers\n",
    "# 3- Spaces are not allowed\n",
    "# 4- Do not use keywords used in functions ( break, mean, meadia,test etc)\n",
    "# 5- Short and descriptive\n",
    "# 6- Case senstivity (Lowercase,uppercase letters,lower case letters should be used)\n",
    "\n",
    "fruit_basket= 8\n",
    "fruit_basket= \"Mangoes\"\n",
    "del fruit_basket\n",
    "print(type(fruit_basket))\n",
    "print (fruit_basket)"
   ]
  },
  {
   "cell_type": "markdown",
   "id": "de9b78fc",
   "metadata": {},
   "source": [
    "### **06-input variables**"
   ]
  },
  {
   "cell_type": "code",
   "execution_count": 19,
   "id": "23252fac",
   "metadata": {},
   "outputs": [
    {
     "name": "stdout",
     "output_type": "stream",
     "text": [
      "what is your name? hammad\n",
      "How old are you? 16\n",
      "Hello! hammad , You are still young\n"
     ]
    }
   ],
   "source": [
    "#fruit_basket=\"Mangoes\"\n",
    "#print(fruit_basket)\n",
    "\n",
    "#input function \n",
    "#fruit_basket=input(\"Which is your favourite furit? \")\n",
    "#print(fruit_basket)\n",
    "\n",
    "#input function of second stage\n",
    "#name= input(\"What is  your name? \")\n",
    "#greetings=\"Hello!\"\n",
    "#print(greetings,name)\n",
    "\n",
    "#another way of stage two input function\n",
    "#name= input(\"What is  your name? \")\n",
    "#print(\"Hello!\",name)\n",
    "\n",
    "#3rd stage input function\n",
    "name=input(\"what is your name? \")\n",
    "age=input(\"How old are you? \")\n",
    "greetings=\"Hello!\"\n",
    "\n",
    "print(greetings, name, \", You are still young\")"
   ]
  },
  {
   "cell_type": "markdown",
   "id": "e1a5884f",
   "metadata": {},
   "source": [
    "### **07-conditional logics**"
   ]
  },
  {
   "cell_type": "code",
   "execution_count": 17,
   "id": "23279409",
   "metadata": {},
   "outputs": [
    {
     "name": "stdout",
     "output_type": "stream",
     "text": [
      "How old is hammad? 16\n",
      "<class 'int'>\n",
      "False\n"
     ]
    }
   ],
   "source": [
    "#logical operators are either \"true or fasle\" or \"yes or no\" or \"0 or 1\"\n",
    "# equal to                        ==\n",
    "# not equal to                     !=\n",
    "# less than                       >\n",
    "# greater than                    <\n",
    "# less than and equal to          <=\n",
    "# greater than and equal to       >=\n",
    "\n",
    "#is 4 equal to 4\n",
    "# print(4==4)\n",
    "# print (3<=5)\n",
    "# print (5>=4)\n",
    "\n",
    "#application of logical operators\n",
    "# aammar_age=4\n",
    "# age_at_school=5\n",
    "# print(aammar_age==age_at_school)\n",
    "\n",
    "#input function and logical operator\n",
    "age_at_school=5\n",
    "aammar_age=input(\"How old is hammad? \")  #input function \n",
    "aammar_age=int(aammar_age)\n",
    "print(type(aammar_age))\n",
    "print(aammar_age==age_at_school)  #logical operator"
   ]
  },
  {
   "cell_type": "markdown",
   "id": "d8c3122c",
   "metadata": {},
   "source": [
    "### **08-type conversion**"
   ]
  },
  {
   "cell_type": "code",
   "execution_count": 16,
   "id": "8d18b7d4",
   "metadata": {},
   "outputs": [
    {
     "name": "stdout",
     "output_type": "stream",
     "text": [
      "what is you name? hammad\n",
      "hammad <class 'str'>\n"
     ]
    }
   ],
   "source": [
    "# x = 10          #integer\n",
    "# y = 10.2        #float\n",
    "# z = \"Hello\"     #string\n",
    "\n",
    "#implicit type conversion\n",
    "# x= x+y\n",
    "# print(x,\"Type of x is:\", type(x))\n",
    "\n",
    "#explicit type conversion\n",
    "# age=input(\"what is you age? \")\n",
    "# # age=int(age)\n",
    "# print(age, type(int(age)))\n",
    "\n",
    "#name\n",
    "name=input(\"what is you name? \")\n",
    "print(name, type(str(name)))"
   ]
  },
  {
   "cell_type": "markdown",
   "id": "720ce9cf",
   "metadata": {},
   "source": [
    "### **09- if,else,elif**"
   ]
  },
  {
   "cell_type": "code",
   "execution_count": 15,
   "id": "248e2aab",
   "metadata": {},
   "outputs": [
    {
     "name": "stdout",
     "output_type": "stream",
     "text": [
      "You should take care of aammar, he is still a baby!\n"
     ]
    }
   ],
   "source": [
    "import re\n",
    "\n",
    "\n",
    "require_age_at_school = 5\n",
    "aammar_age = 1\n",
    "\n",
    "#question: can aaammar go to school\n",
    "\n",
    "if aammar_age==require_age_at_school:\n",
    "    print(\"Congratulation! aammar can join the school.\")\n",
    "elif aammar_age> require_age_at_school:\n",
    "    print(\"aammar should join higher secondary school\")\n",
    "elif aammar_age <= 2:\n",
    "    print(\"You should take care of aammar, he is still a baby!\")\n",
    "else:\n",
    "    print(\"aammar can not go to school\")\n",
    "\n"
   ]
  },
  {
   "cell_type": "markdown",
   "id": "751b8bfd",
   "metadata": {},
   "source": [
    "### **10-functions**"
   ]
  },
  {
   "cell_type": "code",
   "execution_count": 14,
   "id": "ccf87490",
   "metadata": {},
   "outputs": [
    {
     "name": "stdout",
     "output_type": "stream",
     "text": [
      "25\n"
     ]
    }
   ],
   "source": [
    "# defining # funtions\n",
    "\n",
    "# def print_codanics():\n",
    "#     print(\"I am learning\")\n",
    "#     print(\"I am learning\")\n",
    "#     print(\"I am learning\")\n",
    "\n",
    "# print_codanics()\n",
    "\n",
    "# 2\n",
    "# def print_codanics():\n",
    "#     text = \"I am learning in codanics youtube channel\"\n",
    "#     print(text)\n",
    "#     print(text)\n",
    "#     print(text)\n",
    "# print_codanics()\n",
    "\n",
    "# 3\n",
    "# def print_codanics(text):\n",
    "#     print(text)\n",
    "#     print(text)\n",
    "#     print(text)\n",
    "\n",
    "# print_codanics(\"I am learning python\")\n",
    "\n",
    "#defining a function with if, elif and else statements\n",
    "\n",
    "# def school_calculator(age,):\n",
    "#     if age==5:\n",
    "#         print(\"aammar can join the school\")\n",
    "#     elif age>5:\n",
    "#         print(\"aammar should go to higher school\")\n",
    "#     else:\n",
    "#         print(\"aammmar is still a baby\")\n",
    "\n",
    "    \n",
    "# school_calculator(2)\n",
    "\n",
    "\n",
    "#defining a function of future\n",
    "\n",
    "def future_age(age):\n",
    "    new_age=age+20\n",
    "    return new_age\n",
    "    print(new_age)\n",
    "\n",
    "future_predicted_age=future_age(5)\n",
    "print(future_predicted_age)"
   ]
  },
  {
   "cell_type": "markdown",
   "id": "7c9f5a7a",
   "metadata": {},
   "source": [
    "### **11-lopps**"
   ]
  },
  {
   "cell_type": "code",
   "execution_count": 13,
   "id": "82902395",
   "metadata": {},
   "outputs": [
    {
     "name": "stdout",
     "output_type": "stream",
     "text": [
      "Mon\n",
      "Tue\n",
      "Wed\n",
      "Thu\n",
      "Sat\n",
      "Sun\n"
     ]
    }
   ],
   "source": [
    "#while and for loops\n",
    "\n",
    "#while loops\n",
    "\n",
    "# x=0\n",
    "# while (x<=5):\n",
    "#     print(x)\n",
    "#     x=x+1\n",
    "\n",
    "#for loop \n",
    "# for x in range(4,10):\n",
    "#     print(x)\n",
    "\n",
    "#array\n",
    "days = [\"Mon\",\"Tue\",\"Wed\",\"Thu\",\"Fri\",\"Sat\",\"Sun\"]\n",
    "\n",
    "for d in days:\n",
    "    # if (d==\"Fri\"):break   #loop stops\n",
    "    if (d==\"Fri\"):continue  #skips d\n",
    "    print(d)\n",
    "\n"
   ]
  },
  {
   "cell_type": "markdown",
   "id": "c3e8f0b5",
   "metadata": {},
   "source": [
    "### **12-import libraries**"
   ]
  },
  {
   "cell_type": "code",
   "execution_count": 12,
   "id": "a6985d42",
   "metadata": {},
   "outputs": [
    {
     "name": "stdout",
     "output_type": "stream",
     "text": [
      "The value of pi is  3.141592653589793\n",
      "300\n"
     ]
    }
   ],
   "source": [
    "#if you want to print the value of pi\n",
    "\n",
    "import math\n",
    "print(\"The value of pi is \", math.pi)\n",
    "\n",
    "import statistics\n",
    "\n",
    "x=[150,250,350,450]\n",
    "print(statistics.mean(x))\n",
    "\n",
    "#numpy,pandas"
   ]
  },
  {
   "cell_type": "markdown",
   "id": "b5ff1f6b",
   "metadata": {},
   "source": [
    "### **13-troble shooting**"
   ]
  },
  {
   "cell_type": "code",
   "execution_count": 11,
   "id": "24513b2b",
   "metadata": {},
   "outputs": [
    {
     "name": "stdout",
     "output_type": "stream",
     "text": [
      "Hello Hammad\n"
     ]
    }
   ],
   "source": [
    "# print(\"we are learning python with aammar\")   #Syntax error\n",
    "\n",
    "# print(25/0) #runtime error\n",
    "\n",
    "name= \"Hammad\"\n",
    "print(\"Hello\", name)\n",
    "\n"
   ]
  },
  {
   "cell_type": "markdown",
   "id": "b5e95fc2",
   "metadata": {},
   "source": [
    "### I have complete this jupyternotebook tutorial"
   ]
  },
  {
   "cell_type": "code",
   "execution_count": null,
   "id": "b3826c61",
   "metadata": {},
   "outputs": [],
   "source": []
  }
 ],
 "metadata": {
  "kernelspec": {
   "display_name": "Python 3 (ipykernel)",
   "language": "python",
   "name": "python3"
  },
  "language_info": {
   "codemirror_mode": {
    "name": "ipython",
    "version": 3
   },
   "file_extension": ".py",
   "mimetype": "text/x-python",
   "name": "python",
   "nbconvert_exporter": "python",
   "pygments_lexer": "ipython3",
   "version": "3.9.12"
  }
 },
 "nbformat": 4,
 "nbformat_minor": 5
}
